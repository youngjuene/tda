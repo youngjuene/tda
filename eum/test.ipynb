{
 "cells": [
  {
   "cell_type": "code",
   "execution_count": 1,
   "id": "6071439e-9fe5-4d7a-9158-ab8760137739",
   "metadata": {},
   "outputs": [
    {
     "ename": "ModuleNotFoundError",
     "evalue": "No module named 'matplotlib'",
     "output_type": "error",
     "traceback": [
      "\u001b[0;31m---------------------------------------------------------------------------\u001b[0m",
      "\u001b[0;31mModuleNotFoundError\u001b[0m                       Traceback (most recent call last)",
      "Cell \u001b[0;32mIn[1], line 3\u001b[0m\n\u001b[1;32m      1\u001b[0m \u001b[38;5;28;01mimport\u001b[39;00m \u001b[38;5;21;01mos\u001b[39;00m\n\u001b[1;32m      2\u001b[0m \u001b[38;5;28;01mimport\u001b[39;00m \u001b[38;5;21;01mnumpy\u001b[39;00m \u001b[38;5;28;01mas\u001b[39;00m \u001b[38;5;21;01mnp\u001b[39;00m\n\u001b[0;32m----> 3\u001b[0m \u001b[38;5;28;01mimport\u001b[39;00m \u001b[38;5;21;01mmatplotlib\u001b[39;00m\u001b[38;5;21;01m.\u001b[39;00m\u001b[38;5;21;01mpyplot\u001b[39;00m \u001b[38;5;28;01mas\u001b[39;00m \u001b[38;5;21;01mplt\u001b[39;00m\n\u001b[1;32m      4\u001b[0m \u001b[38;5;28;01mimport\u001b[39;00m \u001b[38;5;21;01mosmnx\u001b[39;00m \u001b[38;5;28;01mas\u001b[39;00m \u001b[38;5;21;01mox\u001b[39;00m\n\u001b[1;32m      5\u001b[0m \u001b[38;5;28;01mfrom\u001b[39;00m \u001b[38;5;21;01msklearn\u001b[39;00m\u001b[38;5;21;01m.\u001b[39;00m\u001b[38;5;21;01mmetrics\u001b[39;00m\u001b[38;5;21;01m.\u001b[39;00m\u001b[38;5;21;01mpairwise\u001b[39;00m \u001b[38;5;28;01mimport\u001b[39;00m euclidean_distances\n",
      "\u001b[0;31mModuleNotFoundError\u001b[0m: No module named 'matplotlib'"
     ]
    }
   ],
   "source": [
    "import os\n",
    "import numpy as np\n",
    "import matplotlib.pyplot as plt\n",
    "import osmnx as ox\n",
    "from sklearn.metrics.pairwise import euclidean_distances\n",
    "from sklearn.preprocessing import StandardScaler\n",
    "from ripser import ripser\n",
    "from persim import plot_diagrams, wasserstein"
   ]
  },
  {
   "cell_type": "code",
   "execution_count": null,
   "id": "6103964b-0332-4365-b789-f8bbc5afff4b",
   "metadata": {},
   "outputs": [],
   "source": [
    "\n",
    "\n",
    "# Create the 'images' directory if it doesn't exist\n",
    "os.makedirs('images', exist_ok=True)\n",
    "\n",
    "# Specify the cities and download the street network data\n",
    "cities = [\"New York, USA\", \"London, UK\", \"Paris, France\"]\n",
    "city_graphs = []\n",
    "city_coords = []\n",
    "\n",
    "for city in cities:\n",
    "    graph = ox.graph_from_place(city, network_type=\"drive\")\n",
    "    city_graphs.append(graph)\n",
    "    \n",
    "    gdf_nodes, _ = ox.graph_to_gdfs(graph)\n",
    "    node_coords = np.array([(node[\"y\"], node[\"x\"]) for node in gdf_nodes.to_dict(\"records\")])\n",
    "    city_coords.append(node_coords)\n",
    "\n",
    "# Perform topological data analysis for each city\n",
    "city_diagrams = []\n",
    "\n",
    "for coords in city_coords:\n",
    "    scaler = StandardScaler()\n",
    "    coords_scaled = scaler.fit_transform(coords)\n",
    "    \n",
    "    distance_matrix = euclidean_distances(coords_scaled)\n",
    "    diagrams = ripser(distance_matrix, maxdim=1)['dgms']\n",
    "    city_diagrams.append(diagrams)\n",
    "\n",
    "# Plot the persistence diagrams for each city\n",
    "fig, axes = plt.subplots(1, len(cities), figsize=(20, 5))\n",
    "\n",
    "for i, (city, diagrams) in enumerate(zip(cities, city_diagrams)):\n",
    "    plot_diagrams(diagrams, ax=axes[i], show=False)\n",
    "    axes[i].set_title(f\"Persistence Diagrams - {city}\")\n",
    "    axes[i].set_xlabel(\"Birth\")\n",
    "    axes[i].set_ylabel(\"Death\")\n",
    "\n",
    "plt.tight_layout()\n",
    "plt.savefig(\"images/tda_urban_morphology_comparison.png\", dpi=300, bbox_inches=\"tight\")\n",
    "\n",
    "# Compute Wasserstein distances between cities\n",
    "wasserstein_matrix = np.zeros((len(cities), len(cities)))\n",
    "\n",
    "for i in range(len(cities)):\n",
    "    for j in range(len(cities)):\n",
    "        wasserstein_matrix[i, j] = wasserstein(city_diagrams[i][1], city_diagrams[j][1])\n",
    "\n",
    "print(\"Wasserstein Distance Matrix:\")\n",
    "print(wasserstein_matrix)\n",
    "\n",
    "# Plot the street networks for each city\n",
    "fig, axes = plt.subplots(1, len(cities), figsize=(20, 10))\n",
    "\n",
    "for i, (city, graph) in enumerate(zip(cities, city_graphs)):\n",
    "    ox.plot_graph(graph, ax=axes[i], node_size=0, edge_linewidth=0.5, edge_color='gray')\n",
    "    axes[i].set_title(f\"Street Network - {city}\")\n",
    "    axes[i].axis('off')\n",
    "\n",
    "plt.tight_layout()\n",
    "plt.savefig(\"images/tda_urban_morphology_networks.png\", dpi=300, bbox_inches=\"tight\")"
   ]
  }
 ],
 "metadata": {
  "kernelspec": {
   "display_name": "Python 3 (ipykernel)",
   "language": "python",
   "name": "python3"
  },
  "language_info": {
   "codemirror_mode": {
    "name": "ipython",
    "version": 3
   },
   "file_extension": ".py",
   "mimetype": "text/x-python",
   "name": "python",
   "nbconvert_exporter": "python",
   "pygments_lexer": "ipython3",
   "version": "3.10.14"
  }
 },
 "nbformat": 4,
 "nbformat_minor": 5
}

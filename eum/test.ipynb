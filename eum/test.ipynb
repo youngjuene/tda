{
 "cells": [
  {
   "cell_type": "code",
   "execution_count": 1,
   "id": "6071439e-9fe5-4d7a-9158-ab8760137739",
   "metadata": {},
   "outputs": [],
   "source": [
    "import os\n",
    "import numpy as np\n",
    "import matplotlib.pyplot as plt\n",
    "import osmnx as ox\n",
    "from sklearn.metrics.pairwise import euclidean_distances\n",
    "from sklearn.preprocessing import StandardScaler\n",
    "from ripser import ripser\n",
    "from persim import plot_diagrams, wasserstein"
   ]
  },
  {
   "cell_type": "code",
   "execution_count": 2,
   "id": "b0430aa2-6def-4d6b-8a24-1a95475abb0d",
   "metadata": {},
   "outputs": [],
   "source": [
    "os.makedirs('images', exist_ok=True)"
   ]
  },
  {
   "cell_type": "code",
   "execution_count": 6,
   "id": "fd87dba2-7e9d-4010-a9f5-83f93b5412c4",
   "metadata": {},
   "outputs": [],
   "source": [
    "# Specify the cities and download the street network data\n",
    "cities = [\"New York, USA\", \"London, UK\", \"Paris, France\"]\n",
    "city_graphs = []\n",
    "city_coords = []\n",
    "\n",
    "for city in cities:\n",
    "    graph = ox.graph_from_place(city, network_type=\"drive\")\n",
    "    city_graphs.append(graph)\n",
    "    \n",
    "    gdf_nodes, _ = ox.graph_to_gdfs(graph)\n",
    "    node_coords = np.array([(node[\"y\"], node[\"x\"]) for node in gdf_nodes.to_dict(\"records\")])\n",
    "    city_coords.append(node_coords)"
   ]
  },
  {
   "cell_type": "code",
   "execution_count": null,
   "id": "07445c54-e146-4e26-bc7d-5116f5508866",
   "metadata": {},
   "outputs": [],
   "source": [
    "# Perform topological data analysis for each city\n",
    "city_diagrams = []\n",
    "\n",
    "for coords in city_coords:\n",
    "    scaler = StandardScaler()\n",
    "    coords_scaled = scaler.fit_transform(coords)\n",
    "    \n",
    "    distance_matrix = euclidean_distances(coords_scaled)\n",
    "    diagrams = ripser(distance_matrix, maxdim=1)['dgms']\n",
    "    city_diagrams.append(diagrams)"
   ]
  },
  {
   "cell_type": "code",
   "execution_count": null,
   "id": "22c572c6-a6d9-47b4-9e9a-8b435522e745",
   "metadata": {},
   "outputs": [],
   "source": [
    "# Plot the persistence diagrams for each city\n",
    "fig, axes = plt.subplots(1, len(cities), figsize=(20, 5))\n",
    "\n",
    "for i, (city, diagrams) in enumerate(zip(cities, city_diagrams)):\n",
    "    plot_diagrams(diagrams, ax=axes[i], show=False)\n",
    "    axes[i].set_title(f\"Persistence Diagrams - {city}\")\n",
    "    axes[i].set_xlabel(\"Birth\")\n",
    "    axes[i].set_ylabel(\"Death\")\n",
    "\n",
    "plt.tight_layout()\n",
    "plt.savefig(\"images/tda_urban_morphology_comparison.png\", dpi=300, bbox_inches=\"tight\")"
   ]
  },
  {
   "cell_type": "code",
   "execution_count": null,
   "id": "6103964b-0332-4365-b789-f8bbc5afff4b",
   "metadata": {},
   "outputs": [],
   "source": [
    "# Compute Wasserstein distances between cities\n",
    "wasserstein_matrix = np.zeros((len(cities), len(cities)))\n",
    "\n",
    "for i in range(len(cities)):\n",
    "    for j in range(len(cities)):\n",
    "        wasserstein_matrix[i, j] = wasserstein(city_diagrams[i][1], city_diagrams[j][1])\n",
    "\n",
    "print(\"Wasserstein Distance Matrix:\")\n",
    "print(wasserstein_matrix)\n",
    "\n",
    "# Plot the street networks for each city\n",
    "fig, axes = plt.subplots(1, len(cities), figsize=(20, 10))\n",
    "\n",
    "for i, (city, graph) in enumerate(zip(cities, city_graphs)):\n",
    "    ox.plot_graph(graph, ax=axes[i], node_size=0, edge_linewidth=0.5, edge_color='gray')\n",
    "    axes[i].set_title(f\"Street Network - {city}\")\n",
    "    axes[i].axis('off')\n",
    "\n",
    "plt.tight_layout()\n",
    "plt.savefig(\"images/tda_urban_morphology_networks.png\", dpi=300, bbox_inches=\"tight\")"
   ]
  },
  {
   "cell_type": "code",
   "execution_count": null,
   "id": "74a4e147-888b-46a0-9d34-d6d08d0064f3",
   "metadata": {},
   "outputs": [],
   "source": []
  }
 ],
 "metadata": {
  "kernelspec": {
   "display_name": "Python 3 (ipykernel)",
   "language": "python",
   "name": "python3"
  },
  "language_info": {
   "codemirror_mode": {
    "name": "ipython",
    "version": 3
   },
   "file_extension": ".py",
   "mimetype": "text/x-python",
   "name": "python",
   "nbconvert_exporter": "python",
   "pygments_lexer": "ipython3",
   "version": "3.10.14"
  }
 },
 "nbformat": 4,
 "nbformat_minor": 5
}
